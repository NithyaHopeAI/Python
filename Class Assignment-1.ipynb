{
 "cells": [
  {
   "cell_type": "code",
   "execution_count": 1,
   "id": "9688cada-261b-4e78-a86b-0661e121e17f",
   "metadata": {},
   "outputs": [],
   "source": [
    "# create class and function"
   ]
  },
  {
   "cell_type": "code",
   "execution_count": 2,
   "id": "ce5e1b1b-d2ce-4cbf-b421-784134ea941c",
   "metadata": {},
   "outputs": [],
   "source": [
    "class AIFields:\n",
    "    def __init__(self):\n",
    "        self.fields = [\"Machine Learning\",\n",
    "            \"Neural Networks\",\n",
    "            \"Vision\",\n",
    "            \"Robotics\",\n",
    "            \"Speech Processing\",\n",
    "            \"Natural Language Processing\"]\n",
    "    def list_fields(self):\n",
    "        print(\"Sub-fields in AI are:\")\n",
    "        for field in self.fields:\n",
    "            print(field)"
   ]
  },
  {
   "cell_type": "code",
   "execution_count": 3,
   "id": "84e8a78b-2acb-42a5-a187-a29fe620faec",
   "metadata": {},
   "outputs": [
    {
     "name": "stdout",
     "output_type": "stream",
     "text": [
      "Sub-fields in AI are:\n",
      "Machine Learning\n",
      "Neural Networks\n",
      "Vision\n",
      "Robotics\n",
      "Speech Processing\n",
      "Natural Language Processing\n"
     ]
    }
   ],
   "source": [
    "AI = AIFields()\n",
    "AI.list_fields()"
   ]
  },
  {
   "cell_type": "code",
   "execution_count": 4,
   "id": "9352ac42-9fc2-4bbc-aaae-e7d03137cda4",
   "metadata": {},
   "outputs": [],
   "source": [
    "#create a funtion odd or even"
   ]
  },
  {
   "cell_type": "code",
   "execution_count": 5,
   "id": "2a854d42-d90c-4fa9-a9e6-5ebe263814f2",
   "metadata": {},
   "outputs": [],
   "source": [
    "class OddEven:\n",
    "    def OddEven(self):\n",
    "        try:\n",
    "            number = int(input(\"Enter a number: \"))\n",
    "            if number % 2 == 0:\n",
    "                print(f\"{number} is an Even number\")\n",
    "            else:\n",
    "                print(f\"{number} is an Odd number\")\n",
    "        except ValueError:\n",
    "            print(\"Invalid input. Please enter a valid number.\")"
   ]
  },
  {
   "cell_type": "code",
   "execution_count": 6,
   "id": "f4c4c4e5-c081-4f70-b4d0-6f43a96a7c6b",
   "metadata": {},
   "outputs": [
    {
     "name": "stdin",
     "output_type": "stream",
     "text": [
      "Enter a number:  52452\n"
     ]
    },
    {
     "name": "stdout",
     "output_type": "stream",
     "text": [
      "52452 is an Even number\n"
     ]
    }
   ],
   "source": [
    "odd_even = OddEven()\n",
    "odd_even.OddEven()"
   ]
  },
  {
   "cell_type": "code",
   "execution_count": 7,
   "id": "dcceb0c5-ba48-4cff-8e05-b5e7e51a5219",
   "metadata": {},
   "outputs": [],
   "source": [
    "#create a function marriage eligibility male and female"
   ]
  },
  {
   "cell_type": "code",
   "execution_count": 8,
   "id": "fab7006c-5b19-4c81-bcbc-8c3cef87d268",
   "metadata": {},
   "outputs": [],
   "source": [
    "class ElegibilityForMarriage:\n",
    "    def Elegible(self):\n",
    "        gender = input(\"Your Gender: \")\n",
    "        age = int(input(\"Your Age: \"))\n",
    "        \n",
    "        if gender.lower() == \"male\" and age >= 21:\n",
    "            print(\"ELIGIBLE\")\n",
    "        elif gender.lower() == \"female\" and age >= 18:\n",
    "            print(\"ELIGIBLE\")\n",
    "        else:\n",
    "            print(\"NOT ELIGIBLE\")"
   ]
  },
  {
   "cell_type": "code",
   "execution_count": 9,
   "id": "b4b28d96-d64b-4f97-9c2b-564efa401c24",
   "metadata": {},
   "outputs": [
    {
     "name": "stdin",
     "output_type": "stream",
     "text": [
      "Your Gender:  Male\n",
      "Your Age:  20\n"
     ]
    },
    {
     "name": "stdout",
     "output_type": "stream",
     "text": [
      "NOT ELIGIBLE\n"
     ]
    }
   ],
   "source": [
    "eligibility = ElegibilityForMarriage()\n",
    "eligibility.Elegible()"
   ]
  },
  {
   "cell_type": "code",
   "execution_count": 10,
   "id": "cb55619e-59f7-417f-9be5-b31cc62922aa",
   "metadata": {},
   "outputs": [],
   "source": [
    "#calculate the percentage of your 10th mark"
   ]
  },
  {
   "cell_type": "code",
   "execution_count": 11,
   "id": "0f1ac8a2-d714-4232-b4d9-ea1f3603552b",
   "metadata": {},
   "outputs": [],
   "source": [
    "class FindPercent:\n",
    "    def percentage(self):\n",
    "        Subject1 = 98\n",
    "        Subject2 = 87\n",
    "        Subject3 = 95\n",
    "        Subject4 = 95\n",
    "        Subject5 = 93\n",
    "        \n",
    "        total_marks = Subject1 + Subject2 + Subject3 + Subject4 + Subject5\n",
    "        max_marks = 500  \n",
    "        percentage = (total_marks / max_marks) * 100\n",
    "        \n",
    "        print(f\"Subject1= {Subject1}\")\n",
    "        print(f\"Subject2= {Subject2}\")\n",
    "        print(f\"Subject3= {Subject3}\")\n",
    "        print(f\"Subject4= {Subject4}\")\n",
    "        print(f\"Subject5= {Subject5}\")\n",
    "        print(f\"Total : {total_marks}\")\n",
    "        print(f\"Percentage : {percentage}\")"
   ]
  },
  {
   "cell_type": "code",
   "execution_count": 12,
   "id": "32131794-22fb-42aa-8eb9-44c289e0cb66",
   "metadata": {},
   "outputs": [
    {
     "name": "stdout",
     "output_type": "stream",
     "text": [
      "Subject1= 98\n",
      "Subject2= 87\n",
      "Subject3= 95\n",
      "Subject4= 95\n",
      "Subject5= 93\n",
      "Total : 468\n",
      "Percentage : 93.60000000000001\n"
     ]
    }
   ],
   "source": [
    "find_percent = FindPercent()\n",
    "find_percent.percentage()"
   ]
  },
  {
   "cell_type": "code",
   "execution_count": 13,
   "id": "ea3eeb7a-6140-4cfe-91de-e9c925d54ba7",
   "metadata": {},
   "outputs": [],
   "source": [
    "#area and perimeter of triangle"
   ]
  },
  {
   "cell_type": "code",
   "execution_count": 14,
   "id": "e05745f3-723a-4887-bb8c-2bad4a88d789",
   "metadata": {},
   "outputs": [],
   "source": [
    "class Triangle:\n",
    "    def triangle(self):\n",
    "        height = float(input(\"Height: \"))\n",
    "        breadth = float(input(\"Breadth: \"))\n",
    "        area = (height * breadth) / 2\n",
    "        \n",
    "        print(f\"Area formula: (Height * Breadth) / 2\")\n",
    "        print(f\"Area of Triangle: {area}\")\n",
    "        \n",
    "        height1 = float(input(\"Height1: \"))\n",
    "        height2 = float(input(\"Height2: \"))\n",
    "        breadth2 = float(input(\"Breadth: \"))  # Use a different variable name for the second breadth\n",
    "        perimeter = height1 + height2 + breadth2\n",
    "        \n",
    "        print(f\"Perimeter formula: Height1 + Height2 + Breadth\")\n",
    "        print(f\"Perimeter of Triangle: {perimeter}\")"
   ]
  },
  {
   "cell_type": "code",
   "execution_count": 15,
   "id": "cefe33d8-3bdc-4f95-9e7d-6c4cee4148ef",
   "metadata": {},
   "outputs": [
    {
     "name": "stdin",
     "output_type": "stream",
     "text": [
      "Height:  32\n",
      "Breadth:  34\n"
     ]
    },
    {
     "name": "stdout",
     "output_type": "stream",
     "text": [
      "Area formula: (Height * Breadth) / 2\n",
      "Area of Triangle: 544.0\n"
     ]
    },
    {
     "name": "stdin",
     "output_type": "stream",
     "text": [
      "Height1:  2\n",
      "Height2:  4\n",
      "Breadth:  4\n"
     ]
    },
    {
     "name": "stdout",
     "output_type": "stream",
     "text": [
      "Perimeter formula: Height1 + Height2 + Breadth\n",
      "Perimeter of Triangle: 10.0\n"
     ]
    }
   ],
   "source": [
    "triangle = Triangle()\n",
    "triangle.triangle()"
   ]
  },
  {
   "cell_type": "code",
   "execution_count": null,
   "id": "72a87224-2157-4c9c-a78b-670c3a87c9ec",
   "metadata": {},
   "outputs": [],
   "source": []
  },
  {
   "cell_type": "code",
   "execution_count": null,
   "id": "e50d6326-8e0c-4011-994e-f16752949d05",
   "metadata": {},
   "outputs": [],
   "source": []
  }
 ],
 "metadata": {
  "kernelspec": {
   "display_name": "Python 3 (ipykernel)",
   "language": "python",
   "name": "python3"
  },
  "language_info": {
   "codemirror_mode": {
    "name": "ipython",
    "version": 3
   },
   "file_extension": ".py",
   "mimetype": "text/x-python",
   "name": "python",
   "nbconvert_exporter": "python",
   "pygments_lexer": "ipython3",
   "version": "3.11.7"
  }
 },
 "nbformat": 4,
 "nbformat_minor": 5
}
