{
 "cells": [
  {
   "cell_type": "code",
   "execution_count": 1,
   "id": "50628cba-8846-4e1d-8cc0-e03fd5a58e9d",
   "metadata": {},
   "outputs": [],
   "source": [
    "# create class and function"
   ]
  },
  {
   "cell_type": "code",
   "execution_count": 2,
   "id": "54d472d6-533c-4e9a-aa0e-c39d1ba2d4ed",
   "metadata": {},
   "outputs": [],
   "source": [
    "def list_fields():\n",
    "    fields = [\"Machine Learning\",\n",
    "        \"Neural Networks\",\n",
    "        \"Vision\",\n",
    "        \"Robotics\",\n",
    "        \"Speech Processing\",\n",
    "        \"Natural Language Processing\"]\n",
    "    print(\"Sub-fields in AI are:\")\n",
    "    for field in fields:\n",
    "        print(field)"
   ]
  },
  {
   "cell_type": "code",
   "execution_count": 3,
   "id": "2c5f00c7-b86f-4590-99a7-150b86662071",
   "metadata": {},
   "outputs": [
    {
     "name": "stdout",
     "output_type": "stream",
     "text": [
      "Sub-fields in AI are:\n",
      "Machine Learning\n",
      "Neural Networks\n",
      "Vision\n",
      "Robotics\n",
      "Speech Processing\n",
      "Natural Language Processing\n"
     ]
    }
   ],
   "source": [
    "list_fields()"
   ]
  },
  {
   "cell_type": "code",
   "execution_count": 4,
   "id": "d8214e93-f537-403a-94e5-c32bb243b6d9",
   "metadata": {},
   "outputs": [],
   "source": [
    "#create a funtion odd or even"
   ]
  },
  {
   "cell_type": "code",
   "execution_count": 5,
   "id": "86362542-80dd-45e2-bafd-7582a8e273dd",
   "metadata": {},
   "outputs": [],
   "source": [
    "def OddEven():\n",
    "        try:\n",
    "            number = int(input(\"Enter a number: \"))\n",
    "            if number % 2 == 0:\n",
    "                print(f\"{number} is an Even number\")\n",
    "            else:\n",
    "                print(f\"{number} is an Odd number\")\n",
    "        except ValueError:\n",
    "            print(\"Invalid input. Please enter a valid number.\")"
   ]
  },
  {
   "cell_type": "code",
   "execution_count": 6,
   "id": "eaf0d660-0f93-488c-967b-1ae45a9c94e2",
   "metadata": {},
   "outputs": [
    {
     "name": "stdin",
     "output_type": "stream",
     "text": [
      "Enter a number:  52452\n"
     ]
    },
    {
     "name": "stdout",
     "output_type": "stream",
     "text": [
      "52452 is an Even number\n"
     ]
    }
   ],
   "source": [
    "OddEven()\n"
   ]
  },
  {
   "cell_type": "code",
   "execution_count": 7,
   "id": "effa8b02-357b-45ec-a8fe-1b13f542f138",
   "metadata": {},
   "outputs": [],
   "source": [
    "#create a function marriage eligibility male and female"
   ]
  },
  {
   "cell_type": "code",
   "execution_count": 8,
   "id": "c957a9d8-e5b3-409a-aa02-fa6dd3d58dda",
   "metadata": {},
   "outputs": [],
   "source": [
    "def Elegible():\n",
    "        gender = input(\"Your Gender: \")\n",
    "        age = int(input(\"Your Age: \"))\n",
    "        \n",
    "        if gender.lower() == \"male\" and age >= 21:\n",
    "            print(\"ELIGIBLE\")\n",
    "        elif gender.lower() == \"female\" and age >= 18:\n",
    "            print(\"ELIGIBLE\")\n",
    "        else:\n",
    "            print(\"NOT ELIGIBLE\")"
   ]
  },
  {
   "cell_type": "code",
   "execution_count": 9,
   "id": "d529ec4a-1f62-4f0a-9a5c-465eb01bffd5",
   "metadata": {},
   "outputs": [
    {
     "name": "stdin",
     "output_type": "stream",
     "text": [
      "Your Gender:  Male\n",
      "Your Age:  20\n"
     ]
    },
    {
     "name": "stdout",
     "output_type": "stream",
     "text": [
      "NOT ELIGIBLE\n"
     ]
    }
   ],
   "source": [
    "Elegible()"
   ]
  },
  {
   "cell_type": "code",
   "execution_count": 10,
   "id": "1805ef10-489b-45fc-a210-3e33fbce6efb",
   "metadata": {},
   "outputs": [],
   "source": [
    "#calculate the percentage of your 10th mark"
   ]
  },
  {
   "cell_type": "code",
   "execution_count": 11,
   "id": "a4f5c08e-02b0-496d-8bf8-9d6663852fd1",
   "metadata": {},
   "outputs": [],
   "source": [
    "def percentage():\n",
    "        Subject1 = 98\n",
    "        Subject2 = 87\n",
    "        Subject3 = 95\n",
    "        Subject4 = 95\n",
    "        Subject5 = 93\n",
    "        \n",
    "        total_marks = Subject1 + Subject2 + Subject3 + Subject4 + Subject5\n",
    "        max_marks = 500  \n",
    "        percentage = (total_marks / max_marks) * 100\n",
    "        \n",
    "        print(f\"Subject1= {Subject1}\")\n",
    "        print(f\"Subject2= {Subject2}\")\n",
    "        print(f\"Subject3= {Subject3}\")\n",
    "        print(f\"Subject4= {Subject4}\")\n",
    "        print(f\"Subject5= {Subject5}\")\n",
    "        print(f\"Total : {total_marks}\")\n",
    "        print(f\"Percentage : {percentage}\")"
   ]
  },
  {
   "cell_type": "code",
   "execution_count": 12,
   "id": "054e5f75-416e-480e-9ddc-f5f3e69aea9a",
   "metadata": {},
   "outputs": [
    {
     "name": "stdout",
     "output_type": "stream",
     "text": [
      "Subject1= 98\n",
      "Subject2= 87\n",
      "Subject3= 95\n",
      "Subject4= 95\n",
      "Subject5= 93\n",
      "Total : 468\n",
      "Percentage : 93.60000000000001\n"
     ]
    }
   ],
   "source": [
    "percentage()"
   ]
  },
  {
   "cell_type": "code",
   "execution_count": 13,
   "id": "11ea72a1-2d04-4f57-91ec-eb03328d6528",
   "metadata": {},
   "outputs": [],
   "source": [
    "#area and perimeter of triangle"
   ]
  },
  {
   "cell_type": "code",
   "execution_count": 14,
   "id": "01d8ecc7-82a3-4d46-bf35-1bdb4caec908",
   "metadata": {},
   "outputs": [],
   "source": [
    "def triangle():\n",
    "        height = float(input(\"Height: \"))\n",
    "        breadth = float(input(\"Breadth: \"))\n",
    "        area = (height * breadth) / 2\n",
    "        \n",
    "        print(f\"Area formula: (Height * Breadth) / 2\")\n",
    "        print(f\"Area of Triangle: {area}\")\n",
    "        \n",
    "        height1 = float(input(\"Height1: \"))\n",
    "        height2 = float(input(\"Height2: \"))\n",
    "        breadth2 = float(input(\"Breadth: \"))  # Use a different variable name for the second breadth\n",
    "        perimeter = height1 + height2 + breadth2\n",
    "        \n",
    "        print(f\"Perimeter formula: Height1 + Height2 + Breadth\")\n",
    "        print(f\"Perimeter of Triangle: {perimeter}\")"
   ]
  },
  {
   "cell_type": "code",
   "execution_count": 15,
   "id": "fd663e57-aa53-43db-8bd8-6fed29686ff7",
   "metadata": {},
   "outputs": [
    {
     "name": "stdin",
     "output_type": "stream",
     "text": [
      "Height:  32\n",
      "Breadth:  34\n"
     ]
    },
    {
     "name": "stdout",
     "output_type": "stream",
     "text": [
      "Area formula: (Height * Breadth) / 2\n",
      "Area of Triangle: 544.0\n"
     ]
    },
    {
     "name": "stdin",
     "output_type": "stream",
     "text": [
      "Height1:  2\n",
      "Height2:  4\n",
      "Breadth:  4\n"
     ]
    },
    {
     "name": "stdout",
     "output_type": "stream",
     "text": [
      "Perimeter formula: Height1 + Height2 + Breadth\n",
      "Perimeter of Triangle: 10.0\n"
     ]
    }
   ],
   "source": [
    "triangle()"
   ]
  },
  {
   "cell_type": "code",
   "execution_count": null,
   "id": "084cf26c-5f0b-4555-b976-67ee9e20cb09",
   "metadata": {},
   "outputs": [],
   "source": []
  },
  {
   "cell_type": "code",
   "execution_count": null,
   "id": "3202107f-21c2-4463-9415-03ef63f0aea9",
   "metadata": {},
   "outputs": [],
   "source": []
  },
  {
   "cell_type": "code",
   "execution_count": null,
   "id": "cff0df6b-4315-4dc2-a6b4-620241573889",
   "metadata": {},
   "outputs": [],
   "source": []
  },
  {
   "cell_type": "code",
   "execution_count": null,
   "id": "70213d89-5442-4ad7-9c9d-564e1c666c51",
   "metadata": {},
   "outputs": [],
   "source": []
  }
 ],
 "metadata": {
  "kernelspec": {
   "display_name": "Python 3 (ipykernel)",
   "language": "python",
   "name": "python3"
  },
  "language_info": {
   "codemirror_mode": {
    "name": "ipython",
    "version": 3
   },
   "file_extension": ".py",
   "mimetype": "text/x-python",
   "name": "python",
   "nbconvert_exporter": "python",
   "pygments_lexer": "ipython3",
   "version": "3.11.7"
  }
 },
 "nbformat": 4,
 "nbformat_minor": 5
}
