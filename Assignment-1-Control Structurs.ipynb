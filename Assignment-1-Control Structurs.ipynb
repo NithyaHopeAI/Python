{
 "cells": [
  {
   "cell_type": "code",
   "execution_count": 1,
   "id": "fb81cd68-2675-45a3-ad53-90716393531d",
   "metadata": {},
   "outputs": [
    {
     "name": "stdout",
     "output_type": "stream",
     "text": [
      "Welcome to Assignment-1\n"
     ]
    }
   ],
   "source": [
    "print(\"Welcome to Assignment-1\")"
   ]
  },
  {
   "cell_type": "code",
   "execution_count": 2,
   "id": "ca6128be-b7f9-4be1-bbde-e4c995d4c987",
   "metadata": {},
   "outputs": [
    {
     "name": "stdout",
     "output_type": "stream",
     "text": [
      "Num1=10\n",
      "Num1=30\n",
      "40\n"
     ]
    }
   ],
   "source": [
    "Num1=10\n",
    "print(\"Num1=10\")\n",
    "Num2=30\n",
    "print(\"Num1=30\")\n",
    "add=Num1+Num2\n",
    "print(add)"
   ]
  },
  {
   "cell_type": "code",
   "execution_count": 3,
   "id": "d6f619be-3722-45e3-9cc5-7fedacf580fd",
   "metadata": {},
   "outputs": [],
   "source": [
    "#Body Mass Index"
   ]
  },
  {
   "cell_type": "markdown",
   "id": "5753bd2a-47a6-47e8-ba6e-0cc2e603b4c3",
   "metadata": {},
   "source": [
    "bmi<18.5-->under weight\n",
    "bmi18.5-24.9-->normal weight\n",
    "bmi25-29.9-->over weight\n",
    "bmi30-->very over weight"
   ]
  },
  {
   "cell_type": "code",
   "execution_count": 4,
   "id": "e3837ca2-ac44-4404-b811-0cf8b6cc9075",
   "metadata": {},
   "outputs": [
    {
     "name": "stdin",
     "output_type": "stream",
     "text": [
      "Enter the bmi: 34\n"
     ]
    }
   ],
   "source": [
    "bmi=int(input(\"Enter the bmi:\"))"
   ]
  },
  {
   "cell_type": "code",
   "execution_count": 19,
   "id": "657ba0a2-583c-4508-aaaf-4111be6aba91",
   "metadata": {},
   "outputs": [
    {
     "name": "stdout",
     "output_type": "stream",
     "text": [
      "very over weight\n"
     ]
    }
   ],
   "source": [
    "if(bmi<18.5):\n",
    "    print(\"under weight\")\n",
    "elif(bmi<18.5-24.9):\n",
    "    print(\"normal weight\")\n",
    "elif(bmi<25-29.9):\n",
    "    print(\"over weight\")\n",
    "else:\n",
    "    print(\"very over weight\")"
   ]
  },
  {
   "cell_type": "code",
   "execution_count": null,
   "id": "94fe2744-dc4e-41c8-b138-bf086aa7c91e",
   "metadata": {},
   "outputs": [],
   "source": []
  }
 ],
 "metadata": {
  "kernelspec": {
   "display_name": "Python 3 (ipykernel)",
   "language": "python",
   "name": "python3"
  },
  "language_info": {
   "codemirror_mode": {
    "name": "ipython",
    "version": 3
   },
   "file_extension": ".py",
   "mimetype": "text/x-python",
   "name": "python",
   "nbconvert_exporter": "python",
   "pygments_lexer": "ipython3",
   "version": "3.11.7"
  }
 },
 "nbformat": 4,
 "nbformat_minor": 5
}
